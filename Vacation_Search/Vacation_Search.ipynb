{
 "cells": [
  {
   "cell_type": "markdown",
   "metadata": {},
   "source": [
    "## Deliverable 2. Create a Customer Travel Destinations Map."
   ]
  },
  {
   "cell_type": "code",
   "execution_count": 1,
   "metadata": {},
   "outputs": [],
   "source": [
    "# Dependencies and Setup\n",
    "import pandas as pd\n",
    "import requests\n",
    "import gmaps\n",
    "\n",
    "# Import API key\n",
    "from config import g_key\n",
    "\n",
    "# Configure gmaps API key\n",
    "gmaps.configure(api_key=g_key)"
   ]
  },
  {
   "cell_type": "code",
   "execution_count": 2,
   "metadata": {},
   "outputs": [
    {
     "output_type": "execute_result",
     "data": {
      "text/plain": [
       "   City_ID         City Country      Lat       Lng  Max Temp  Humidity  \\\n",
       "0        0         Hilo      US  19.7297 -155.0900      78.8        53   \n",
       "1        1     Hermanus      ZA -34.4187   19.2345      59.0        93   \n",
       "2        2  Yellowknife      CA  62.4560 -114.3525      10.4        48   \n",
       "3        3       Padang      ID  -0.9492  100.3543      77.0        94   \n",
       "4        4      Ushuaia      AR -54.8000  -68.3000      50.0        57   \n",
       "\n",
       "   Cloudiness  Wind Speed Current Description  \n",
       "0          20        8.05          few clouds  \n",
       "1         100        2.95     overcast clouds  \n",
       "2          20        9.22          few clouds  \n",
       "3          40        1.14    scattered clouds  \n",
       "4          40        5.75    scattered clouds  "
      ],
      "text/html": "<div>\n<style scoped>\n    .dataframe tbody tr th:only-of-type {\n        vertical-align: middle;\n    }\n\n    .dataframe tbody tr th {\n        vertical-align: top;\n    }\n\n    .dataframe thead th {\n        text-align: right;\n    }\n</style>\n<table border=\"1\" class=\"dataframe\">\n  <thead>\n    <tr style=\"text-align: right;\">\n      <th></th>\n      <th>City_ID</th>\n      <th>City</th>\n      <th>Country</th>\n      <th>Lat</th>\n      <th>Lng</th>\n      <th>Max Temp</th>\n      <th>Humidity</th>\n      <th>Cloudiness</th>\n      <th>Wind Speed</th>\n      <th>Current Description</th>\n    </tr>\n  </thead>\n  <tbody>\n    <tr>\n      <th>0</th>\n      <td>0</td>\n      <td>Hilo</td>\n      <td>US</td>\n      <td>19.7297</td>\n      <td>-155.0900</td>\n      <td>78.8</td>\n      <td>53</td>\n      <td>20</td>\n      <td>8.05</td>\n      <td>few clouds</td>\n    </tr>\n    <tr>\n      <th>1</th>\n      <td>1</td>\n      <td>Hermanus</td>\n      <td>ZA</td>\n      <td>-34.4187</td>\n      <td>19.2345</td>\n      <td>59.0</td>\n      <td>93</td>\n      <td>100</td>\n      <td>2.95</td>\n      <td>overcast clouds</td>\n    </tr>\n    <tr>\n      <th>2</th>\n      <td>2</td>\n      <td>Yellowknife</td>\n      <td>CA</td>\n      <td>62.4560</td>\n      <td>-114.3525</td>\n      <td>10.4</td>\n      <td>48</td>\n      <td>20</td>\n      <td>9.22</td>\n      <td>few clouds</td>\n    </tr>\n    <tr>\n      <th>3</th>\n      <td>3</td>\n      <td>Padang</td>\n      <td>ID</td>\n      <td>-0.9492</td>\n      <td>100.3543</td>\n      <td>77.0</td>\n      <td>94</td>\n      <td>40</td>\n      <td>1.14</td>\n      <td>scattered clouds</td>\n    </tr>\n    <tr>\n      <th>4</th>\n      <td>4</td>\n      <td>Ushuaia</td>\n      <td>AR</td>\n      <td>-54.8000</td>\n      <td>-68.3000</td>\n      <td>50.0</td>\n      <td>57</td>\n      <td>40</td>\n      <td>5.75</td>\n      <td>scattered clouds</td>\n    </tr>\n  </tbody>\n</table>\n</div>"
     },
     "metadata": {},
     "execution_count": 2
    }
   ],
   "source": [
    "# 1. Import the WeatherPy_database.csv file. \n",
    "city_data_df = pd.read_csv(\"../Weather_Database/WeatherPy_database.csv\")\n",
    "city_data_df.head()"
   ]
  },
  {
   "cell_type": "code",
   "execution_count": 3,
   "metadata": {},
   "outputs": [],
   "source": [
    "# 2. Prompt the user to enter minimum and maximum temperature criteria \n",
    "min_temp = float(input(\"What is the minimum temperature you would like for your trip? \"))\n",
    "max_temp = float(input(\"What is the maximum temperature you would like for your trip? \"))"
   ]
  },
  {
   "cell_type": "code",
   "execution_count": 4,
   "metadata": {},
   "outputs": [],
   "source": [
    "# 3. Filter the city_data_df DataFrame using the input statements to create a new DataFrame using the loc method.\n",
    "preferred_cities_df = city_data_df.loc[(city_data_df[\"Max Temp\"] <= max_temp) & \\\n",
    "                                       (city_data_df[\"Max Temp\"] >= min_temp)]"
   ]
  },
  {
   "cell_type": "code",
   "execution_count": 5,
   "metadata": {},
   "outputs": [
    {
     "output_type": "execute_result",
     "data": {
      "text/plain": [
       "City_ID                283\n",
       "City                   283\n",
       "Country                280\n",
       "Lat                    283\n",
       "Lng                    283\n",
       "Max Temp               283\n",
       "Humidity               283\n",
       "Cloudiness             283\n",
       "Wind Speed             283\n",
       "Current Description    283\n",
       "dtype: int64"
      ]
     },
     "metadata": {},
     "execution_count": 5
    }
   ],
   "source": [
    "# 4a. Determine if there are any empty rows.\n",
    "preferred_cities_df.count()"
   ]
  },
  {
   "cell_type": "code",
   "execution_count": 6,
   "metadata": {},
   "outputs": [],
   "source": [
    "# 4b. Drop any empty rows and create a new DataFrame that doesn’t have empty rows.\n",
    "clean_df = preferred_cities_df.dropna()"
   ]
  },
  {
   "cell_type": "code",
   "execution_count": 7,
   "metadata": {},
   "outputs": [
    {
     "output_type": "execute_result",
     "data": {
      "text/plain": [
       "               City Country  Max Temp Current Description      Lat       Lng  \\\n",
       "0              Hilo      US     78.80          few clouds  19.7297 -155.0900   \n",
       "3            Padang      ID     77.00    scattered clouds  -0.9492  100.3543   \n",
       "5       Antofagasta      CL     62.60       broken clouds -23.6500  -70.4000   \n",
       "8      Boca Do Acre      BR     70.45       moderate rain  -8.7522  -67.3978   \n",
       "9          Buchanan      LR     78.80    scattered clouds   5.8808  -10.0467   \n",
       "12      Port Alfred      ZA     69.44     overcast clouds -33.5906   26.8910   \n",
       "13  Arraial Do Cabo      BR     76.26           clear sky -22.9661  -42.0278   \n",
       "16          Hualmay      PE     69.03       broken clouds -11.0964  -77.6139   \n",
       "17          Rikitea      PF     79.03           clear sky -23.1203 -134.9692   \n",
       "28           Namibe      AO     78.84    scattered clouds -15.1961   12.1522   \n",
       "\n",
       "   Hotel Name  \n",
       "0              \n",
       "3              \n",
       "5              \n",
       "8              \n",
       "9              \n",
       "12             \n",
       "13             \n",
       "16             \n",
       "17             \n",
       "28             "
      ],
      "text/html": "<div>\n<style scoped>\n    .dataframe tbody tr th:only-of-type {\n        vertical-align: middle;\n    }\n\n    .dataframe tbody tr th {\n        vertical-align: top;\n    }\n\n    .dataframe thead th {\n        text-align: right;\n    }\n</style>\n<table border=\"1\" class=\"dataframe\">\n  <thead>\n    <tr style=\"text-align: right;\">\n      <th></th>\n      <th>City</th>\n      <th>Country</th>\n      <th>Max Temp</th>\n      <th>Current Description</th>\n      <th>Lat</th>\n      <th>Lng</th>\n      <th>Hotel Name</th>\n    </tr>\n  </thead>\n  <tbody>\n    <tr>\n      <th>0</th>\n      <td>Hilo</td>\n      <td>US</td>\n      <td>78.80</td>\n      <td>few clouds</td>\n      <td>19.7297</td>\n      <td>-155.0900</td>\n      <td></td>\n    </tr>\n    <tr>\n      <th>3</th>\n      <td>Padang</td>\n      <td>ID</td>\n      <td>77.00</td>\n      <td>scattered clouds</td>\n      <td>-0.9492</td>\n      <td>100.3543</td>\n      <td></td>\n    </tr>\n    <tr>\n      <th>5</th>\n      <td>Antofagasta</td>\n      <td>CL</td>\n      <td>62.60</td>\n      <td>broken clouds</td>\n      <td>-23.6500</td>\n      <td>-70.4000</td>\n      <td></td>\n    </tr>\n    <tr>\n      <th>8</th>\n      <td>Boca Do Acre</td>\n      <td>BR</td>\n      <td>70.45</td>\n      <td>moderate rain</td>\n      <td>-8.7522</td>\n      <td>-67.3978</td>\n      <td></td>\n    </tr>\n    <tr>\n      <th>9</th>\n      <td>Buchanan</td>\n      <td>LR</td>\n      <td>78.80</td>\n      <td>scattered clouds</td>\n      <td>5.8808</td>\n      <td>-10.0467</td>\n      <td></td>\n    </tr>\n    <tr>\n      <th>12</th>\n      <td>Port Alfred</td>\n      <td>ZA</td>\n      <td>69.44</td>\n      <td>overcast clouds</td>\n      <td>-33.5906</td>\n      <td>26.8910</td>\n      <td></td>\n    </tr>\n    <tr>\n      <th>13</th>\n      <td>Arraial Do Cabo</td>\n      <td>BR</td>\n      <td>76.26</td>\n      <td>clear sky</td>\n      <td>-22.9661</td>\n      <td>-42.0278</td>\n      <td></td>\n    </tr>\n    <tr>\n      <th>16</th>\n      <td>Hualmay</td>\n      <td>PE</td>\n      <td>69.03</td>\n      <td>broken clouds</td>\n      <td>-11.0964</td>\n      <td>-77.6139</td>\n      <td></td>\n    </tr>\n    <tr>\n      <th>17</th>\n      <td>Rikitea</td>\n      <td>PF</td>\n      <td>79.03</td>\n      <td>clear sky</td>\n      <td>-23.1203</td>\n      <td>-134.9692</td>\n      <td></td>\n    </tr>\n    <tr>\n      <th>28</th>\n      <td>Namibe</td>\n      <td>AO</td>\n      <td>78.84</td>\n      <td>scattered clouds</td>\n      <td>-15.1961</td>\n      <td>12.1522</td>\n      <td></td>\n    </tr>\n  </tbody>\n</table>\n</div>"
     },
     "metadata": {},
     "execution_count": 7
    }
   ],
   "source": [
    "# 5a. Create DataFrame called hotel_df to store hotel names along with city, country, max temp, and coordinates.\n",
    "hotel_df = clean_df[[\"City\", \"Country\", \"Max Temp\", \"Current Description\", \"Lat\", \"Lng\"]].copy()\n",
    "\n",
    "# 5b. Create a new column \"Hotel Name\"\n",
    "hotel_df[\"Hotel Name\"] = \"\"\n",
    "hotel_df.head(10)"
   ]
  },
  {
   "cell_type": "code",
   "execution_count": 8,
   "metadata": {},
   "outputs": [
    {
     "output_type": "stream",
     "name": "stdout",
     "text": [
      "Hotel not found... skipping.\n",
      "Hotel not found... skipping.\n",
      "Hotel not found... skipping.\n",
      "Hotel not found... skipping.\n",
      "Hotel not found... skipping.\n",
      "Hotel not found... skipping.\n",
      "Hotel not found... skipping.\n",
      "Hotel not found... skipping.\n",
      "Hotel not found... skipping.\n",
      "Hotel not found... skipping.\n",
      "Hotel not found... skipping.\n",
      "Hotel not found... skipping.\n",
      "Hotel not found... skipping.\n",
      "Hotel not found... skipping.\n",
      "Hotel not found... skipping.\n",
      "Hotel not found... skipping.\n",
      "Hotel not found... skipping.\n"
     ]
    }
   ],
   "source": [
    "# 6a. Set parameters to search for hotels with 5000 meters.\n",
    "params = {\n",
    "    \"radius\": 5000,\n",
    "    \"type\": \"lodging\",\n",
    "    \"key\": g_key\n",
    "}\n",
    "\n",
    "# 6b. Iterate through the hotel DataFrame.\n",
    "for index, row in hotel_df.iterrows():\n",
    "    # 6c. Get latitude and longitude from DataFrame\n",
    "    lat = row[\"Lat\"]\n",
    "    lng = row[\"Lng\"]\n",
    "    params[\"location\"] = f\"{lat},{lng}\"\n",
    "    \n",
    "    # 6d. Set up the base URL for the Google Directions API to get JSON data.\n",
    "    base_url = \"https://maps.googleapis.com/maps/api/place/nearbysearch/json\"\n",
    "\n",
    "    # 6e. Make request and retrieve the JSON data from the search. \n",
    "    hotels = requests.get(base_url, params=params).json()   \n",
    "    \n",
    "    # 6f. Get the first hotel from the results and store the name, if a hotel isn't found skip the city.\n",
    "    try:\n",
    "        hotel_df.loc[index, \"Hotel Name\"] = hotels[\"results\"][0][\"name\"]\n",
    "    except (IndexError):\n",
    "        print(\"Hotel not found... skipping.\")\n",
    "        "
   ]
  },
  {
   "cell_type": "code",
   "execution_count": 9,
   "metadata": {},
   "outputs": [
    {
     "output_type": "execute_result",
     "data": {
      "text/plain": [
       "               City Country  Max Temp Current Description      Lat       Lng  \\\n",
       "0              Hilo      US     78.80          few clouds  19.7297 -155.0900   \n",
       "3            Padang      ID     77.00    scattered clouds  -0.9492  100.3543   \n",
       "5       Antofagasta      CL     62.60       broken clouds -23.6500  -70.4000   \n",
       "8      Boca Do Acre      BR     70.45       moderate rain  -8.7522  -67.3978   \n",
       "9          Buchanan      LR     78.80    scattered clouds   5.8808  -10.0467   \n",
       "12      Port Alfred      ZA     69.44     overcast clouds -33.5906   26.8910   \n",
       "13  Arraial Do Cabo      BR     76.26           clear sky -22.9661  -42.0278   \n",
       "16          Hualmay      PE     69.03       broken clouds -11.0964  -77.6139   \n",
       "17          Rikitea      PF     79.03           clear sky -23.1203 -134.9692   \n",
       "28           Namibe      AO     78.84    scattered clouds -15.1961   12.1522   \n",
       "\n",
       "                         Hotel Name  \n",
       "0               Hilo Hawaiian Hotel  \n",
       "3                    Mercure Padang  \n",
       "5   Holiday Inn Express Antofagasta  \n",
       "8                   Hotel Sao Pedro  \n",
       "9               Kamaneahn Hotel Inc  \n",
       "12               The Halyards Hotel  \n",
       "13              Pousada Porto Praia  \n",
       "16        Hotel Villa Kitzia Huacho  \n",
       "17                   Pension Maro'i  \n",
       "28           Hotel Chik Chik Namibe  "
      ],
      "text/html": "<div>\n<style scoped>\n    .dataframe tbody tr th:only-of-type {\n        vertical-align: middle;\n    }\n\n    .dataframe tbody tr th {\n        vertical-align: top;\n    }\n\n    .dataframe thead th {\n        text-align: right;\n    }\n</style>\n<table border=\"1\" class=\"dataframe\">\n  <thead>\n    <tr style=\"text-align: right;\">\n      <th></th>\n      <th>City</th>\n      <th>Country</th>\n      <th>Max Temp</th>\n      <th>Current Description</th>\n      <th>Lat</th>\n      <th>Lng</th>\n      <th>Hotel Name</th>\n    </tr>\n  </thead>\n  <tbody>\n    <tr>\n      <th>0</th>\n      <td>Hilo</td>\n      <td>US</td>\n      <td>78.80</td>\n      <td>few clouds</td>\n      <td>19.7297</td>\n      <td>-155.0900</td>\n      <td>Hilo Hawaiian Hotel</td>\n    </tr>\n    <tr>\n      <th>3</th>\n      <td>Padang</td>\n      <td>ID</td>\n      <td>77.00</td>\n      <td>scattered clouds</td>\n      <td>-0.9492</td>\n      <td>100.3543</td>\n      <td>Mercure Padang</td>\n    </tr>\n    <tr>\n      <th>5</th>\n      <td>Antofagasta</td>\n      <td>CL</td>\n      <td>62.60</td>\n      <td>broken clouds</td>\n      <td>-23.6500</td>\n      <td>-70.4000</td>\n      <td>Holiday Inn Express Antofagasta</td>\n    </tr>\n    <tr>\n      <th>8</th>\n      <td>Boca Do Acre</td>\n      <td>BR</td>\n      <td>70.45</td>\n      <td>moderate rain</td>\n      <td>-8.7522</td>\n      <td>-67.3978</td>\n      <td>Hotel Sao Pedro</td>\n    </tr>\n    <tr>\n      <th>9</th>\n      <td>Buchanan</td>\n      <td>LR</td>\n      <td>78.80</td>\n      <td>scattered clouds</td>\n      <td>5.8808</td>\n      <td>-10.0467</td>\n      <td>Kamaneahn Hotel Inc</td>\n    </tr>\n    <tr>\n      <th>12</th>\n      <td>Port Alfred</td>\n      <td>ZA</td>\n      <td>69.44</td>\n      <td>overcast clouds</td>\n      <td>-33.5906</td>\n      <td>26.8910</td>\n      <td>The Halyards Hotel</td>\n    </tr>\n    <tr>\n      <th>13</th>\n      <td>Arraial Do Cabo</td>\n      <td>BR</td>\n      <td>76.26</td>\n      <td>clear sky</td>\n      <td>-22.9661</td>\n      <td>-42.0278</td>\n      <td>Pousada Porto Praia</td>\n    </tr>\n    <tr>\n      <th>16</th>\n      <td>Hualmay</td>\n      <td>PE</td>\n      <td>69.03</td>\n      <td>broken clouds</td>\n      <td>-11.0964</td>\n      <td>-77.6139</td>\n      <td>Hotel Villa Kitzia Huacho</td>\n    </tr>\n    <tr>\n      <th>17</th>\n      <td>Rikitea</td>\n      <td>PF</td>\n      <td>79.03</td>\n      <td>clear sky</td>\n      <td>-23.1203</td>\n      <td>-134.9692</td>\n      <td>Pension Maro'i</td>\n    </tr>\n    <tr>\n      <th>28</th>\n      <td>Namibe</td>\n      <td>AO</td>\n      <td>78.84</td>\n      <td>scattered clouds</td>\n      <td>-15.1961</td>\n      <td>12.1522</td>\n      <td>Hotel Chik Chik Namibe</td>\n    </tr>\n  </tbody>\n</table>\n</div>"
     },
     "metadata": {},
     "execution_count": 9
    }
   ],
   "source": [
    "# 7. Drop the rows where there is no Hotel Name.\n",
    "clean_hotel_df = hotel_df.dropna()\n",
    "clean_hotel_df.head(10)"
   ]
  },
  {
   "cell_type": "code",
   "execution_count": 10,
   "metadata": {},
   "outputs": [],
   "source": [
    "# 8a. Create the output File (CSV)\n",
    "output_data_file = \"WeatherPy_vacation.csv\"\n",
    "# 8b. Export the City_Data into a csv\n",
    "clean_hotel_df.to_csv(output_data_file, index_label=\"City_ID\")"
   ]
  },
  {
   "cell_type": "code",
   "execution_count": 11,
   "metadata": {},
   "outputs": [],
   "source": [
    "# 9. Using the template add city name, the country code, the weather description and maximum temperature for the city.\n",
    "info_box_template = \"\"\"\n",
    "<dl>\n",
    "<dt>Hotel Name</dt><dd>{Hotel Name}</dd>\n",
    "<dt>City</dt><dd>{City}</dd>\n",
    "<dt>Country</dt><dd>{Country}</dd>\n",
    "<dt>Current Description</dt><dd>{Current Description}</dd>\n",
    "<dt>Max Temp</dt><dd>{Max Temp} °F</dd>\n",
    "</dl>\n",
    "\"\"\"\n",
    "\n",
    "# 10a. Get the data from each row and add it to the formatting template and store the data in a list.\n",
    "hotel_info = [info_box_template.format(**row) for index, row in clean_hotel_df.iterrows()]\n",
    "\n",
    "# 10b. Get the latitude and longitude from each row and store in a new DataFrame.\n",
    "locations = clean_hotel_df[[\"Lat\", \"Lng\"]]"
   ]
  },
  {
   "cell_type": "code",
   "execution_count": 12,
   "metadata": {},
   "outputs": [
    {
     "output_type": "display_data",
     "data": {
      "text/plain": "Figure(layout=FigureLayout(height='420px'))",
      "application/vnd.jupyter.widget-view+json": {
       "version_major": 2,
       "version_minor": 0,
       "model_id": "eda4a419677a414f8bcfa82d538d3916"
      }
     },
     "metadata": {}
    }
   ],
   "source": [
    "# 11a. Add a marker layer for each city to the map. \n",
    "fig = gmaps.figure(center=(30.0, 31.0), zoom_level=1.5)\n",
    "marker_layer = gmaps.marker_layer(locations, info_box_content=hotel_info)\n",
    "fig.add_layer(marker_layer)\n",
    "\n",
    "# 11b. Display the figure\n",
    "fig"
   ]
  },
  {
   "cell_type": "code",
   "execution_count": null,
   "metadata": {},
   "outputs": [],
   "source": []
  },
  {
   "cell_type": "code",
   "execution_count": null,
   "metadata": {},
   "outputs": [],
   "source": []
  }
 ],
 "metadata": {
  "kernelspec": {
   "display_name": "PythonData",
   "language": "python",
   "name": "pythondata"
  },
  "language_info": {
   "codemirror_mode": {
    "name": "ipython",
    "version": 3
   },
   "file_extension": ".py",
   "mimetype": "text/x-python",
   "name": "python",
   "nbconvert_exporter": "python",
   "pygments_lexer": "ipython3",
   "version": "3.8.5"
  },
  "latex_envs": {
   "LaTeX_envs_menu_present": true,
   "autoclose": false,
   "autocomplete": true,
   "bibliofile": "biblio.bib",
   "cite_by": "apalike",
   "current_citInitial": 1,
   "eqLabelWithNumbers": true,
   "eqNumInitial": 1,
   "hotkeys": {
    "equation": "Ctrl-E",
    "itemize": "Ctrl-I"
   },
   "labels_anchors": false,
   "latex_user_defs": false,
   "report_style_numbering": false,
   "user_envs_cfg": false
  }
 },
 "nbformat": 4,
 "nbformat_minor": 2
}