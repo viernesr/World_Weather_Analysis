{
 "cells": [
  {
   "cell_type": "markdown",
   "metadata": {},
   "source": [
    "## Deliverable 3. Create a Travel Itinerary Map."
   ]
  },
  {
   "cell_type": "code",
   "execution_count": 1,
   "metadata": {},
   "outputs": [],
   "source": [
    "# Dependencies and Setup\n",
    "import pandas as pd\n",
    "import requests\n",
    "import gmaps\n",
    "\n",
    "# Import API key\n",
    "from config import g_key\n",
    "\n",
    "# Configure gmaps\n",
    "gmaps.configure(api_key=g_key)"
   ]
  },
  {
   "cell_type": "code",
   "execution_count": 2,
   "metadata": {},
   "outputs": [
    {
     "output_type": "execute_result",
     "data": {
      "text/plain": [
       "   City_ID          City Country  Max Temp Current Description      Lat  \\\n",
       "0        0          Hilo      US     78.80          few clouds  19.7297   \n",
       "1        3        Padang      ID     77.00    scattered clouds  -0.9492   \n",
       "2        5   Antofagasta      CL     62.60       broken clouds -23.6500   \n",
       "3        8  Boca Do Acre      BR     70.45       moderate rain  -8.7522   \n",
       "4        9      Buchanan      LR     78.80    scattered clouds   5.8808   \n",
       "\n",
       "        Lng                       Hotel Name  \n",
       "0 -155.0900              Hilo Hawaiian Hotel  \n",
       "1  100.3543                   Mercure Padang  \n",
       "2  -70.4000  Holiday Inn Express Antofagasta  \n",
       "3  -67.3978                  Hotel Sao Pedro  \n",
       "4  -10.0467              Kamaneahn Hotel Inc  "
      ],
      "text/html": "<div>\n<style scoped>\n    .dataframe tbody tr th:only-of-type {\n        vertical-align: middle;\n    }\n\n    .dataframe tbody tr th {\n        vertical-align: top;\n    }\n\n    .dataframe thead th {\n        text-align: right;\n    }\n</style>\n<table border=\"1\" class=\"dataframe\">\n  <thead>\n    <tr style=\"text-align: right;\">\n      <th></th>\n      <th>City_ID</th>\n      <th>City</th>\n      <th>Country</th>\n      <th>Max Temp</th>\n      <th>Current Description</th>\n      <th>Lat</th>\n      <th>Lng</th>\n      <th>Hotel Name</th>\n    </tr>\n  </thead>\n  <tbody>\n    <tr>\n      <th>0</th>\n      <td>0</td>\n      <td>Hilo</td>\n      <td>US</td>\n      <td>78.80</td>\n      <td>few clouds</td>\n      <td>19.7297</td>\n      <td>-155.0900</td>\n      <td>Hilo Hawaiian Hotel</td>\n    </tr>\n    <tr>\n      <th>1</th>\n      <td>3</td>\n      <td>Padang</td>\n      <td>ID</td>\n      <td>77.00</td>\n      <td>scattered clouds</td>\n      <td>-0.9492</td>\n      <td>100.3543</td>\n      <td>Mercure Padang</td>\n    </tr>\n    <tr>\n      <th>2</th>\n      <td>5</td>\n      <td>Antofagasta</td>\n      <td>CL</td>\n      <td>62.60</td>\n      <td>broken clouds</td>\n      <td>-23.6500</td>\n      <td>-70.4000</td>\n      <td>Holiday Inn Express Antofagasta</td>\n    </tr>\n    <tr>\n      <th>3</th>\n      <td>8</td>\n      <td>Boca Do Acre</td>\n      <td>BR</td>\n      <td>70.45</td>\n      <td>moderate rain</td>\n      <td>-8.7522</td>\n      <td>-67.3978</td>\n      <td>Hotel Sao Pedro</td>\n    </tr>\n    <tr>\n      <th>4</th>\n      <td>9</td>\n      <td>Buchanan</td>\n      <td>LR</td>\n      <td>78.80</td>\n      <td>scattered clouds</td>\n      <td>5.8808</td>\n      <td>-10.0467</td>\n      <td>Kamaneahn Hotel Inc</td>\n    </tr>\n  </tbody>\n</table>\n</div>"
     },
     "metadata": {},
     "execution_count": 2
    }
   ],
   "source": [
    "# 1. Read the WeatherPy_vacation.csv into a DataFrame.\n",
    "vacation_df = pd.read_csv(\"../Vacation_Search/WeatherPy_vacation.csv\")\n",
    "vacation_df.head()"
   ]
  },
  {
   "cell_type": "code",
   "execution_count": 3,
   "metadata": {},
   "outputs": [],
   "source": [
    "# 2. Using the template add the city name, the country code, the weather description and maximum temperature for the city.\n",
    "info_box_template = \"\"\"\n",
    "<dl>\n",
    "<dt>Hotel Name</dt><dd>{Hotel Name}</dd>\n",
    "<dt>City</dt><dd>{City}</dd>\n",
    "<dt>Country</dt><dd>{Country}</dd>\n",
    "<dt>Current Description</dt><dd>{Current Description}</dd>\n",
    "<dt>Max Temp</dt><dd>{Max Temp} °F</dd>\n",
    "</dl>\n",
    "\"\"\"\n",
    "\n",
    "# 3a. Get the data from each row and add it to the formatting template and store the data in a list.\n",
    "hotel_info = [info_box_template.format(**row) for index, row in vacation_df.iterrows()]\n",
    "\n",
    "# 3b. Get the latitude and longitude from each row and store in a new DataFrame.\n",
    "locations = vacation_df[[\"Lat\", \"Lng\"]]"
   ]
  },
  {
   "cell_type": "code",
   "execution_count": 4,
   "metadata": {},
   "outputs": [
    {
     "output_type": "display_data",
     "data": {
      "text/plain": "Figure(layout=FigureLayout(height='420px'))",
      "application/vnd.jupyter.widget-view+json": {
       "version_major": 2,
       "version_minor": 0,
       "model_id": "a950b0f304124119adc15e700bc4b555"
      }
     },
     "metadata": {}
    }
   ],
   "source": [
    "# 4a. Add a marker layer for each city to the map.\n",
    "fig = gmaps.figure(center=(30.0, 31.0), zoom_level=1.5)\n",
    "marker_layer = gmaps.marker_layer(locations, info_box_content=hotel_info)\n",
    "fig.add_layer(marker_layer)\n",
    "# 4b. Display the figure\n",
    "fig\n"
   ]
  },
  {
   "cell_type": "code",
   "execution_count": 5,
   "metadata": {},
   "outputs": [],
   "source": [
    "# From the map above pick 4 cities and create a vacation itinerary route to travel between the four cities. \n",
    "# 5. Create DataFrames for each city by filtering the 'vacation_df' using the loc method. \n",
    "# Hint: The starting and ending city should be the same city.\n",
    "\n",
    "vacation_start = vacation_df.loc[(vacation_df[\"City\"] == \"Shelburne\")]\n",
    "vacation_end = vacation_df.loc[(vacation_df[\"City\"] == \"Shelburne\")]\n",
    "vacation_stop1 = vacation_df.loc[(vacation_df[\"City\"] == \"Waterloo\")]\n",
    "vacation_stop2 = vacation_df.loc[(vacation_df[\"City\"] == \"Saint-Andre-Avellin\")] \n",
    "vacation_stop3 = vacation_df.loc[(vacation_df[\"City\"] == \"Maniwaki\")] "
   ]
  },
  {
   "cell_type": "code",
   "execution_count": 6,
   "metadata": {},
   "outputs": [],
   "source": [
    "# 6. Get the latitude-longitude pairs as tuples from each city DataFrame using the to_numpy function and list indexing.\n",
    "start = (vacation_start.to_numpy()[0][5], vacation_start.to_numpy()[0][6])\n",
    "end = (vacation_end.to_numpy()[0][5], vacation_end.to_numpy()[0][6])\n",
    "stop1 = (vacation_stop1.to_numpy()[0][5], vacation_stop1.to_numpy()[0][6])\n",
    "stop2 = (vacation_stop2.to_numpy()[0][5], vacation_stop2.to_numpy()[0][6])\n",
    "stop3 = (vacation_stop3.to_numpy()[0][5], vacation_stop3.to_numpy()[0][6])"
   ]
  },
  {
   "cell_type": "code",
   "execution_count": 7,
   "metadata": {
    "scrolled": true
   },
   "outputs": [
    {
     "output_type": "display_data",
     "data": {
      "text/plain": "Figure(layout=FigureLayout(height='420px'))",
      "application/vnd.jupyter.widget-view+json": {
       "version_major": 2,
       "version_minor": 0,
       "model_id": "2aaa6eadc8ce4e9eb2fc6a7e94c63b13"
      }
     },
     "metadata": {}
    }
   ],
   "source": [
    "# 7. Create a direction layer map using the start and end latitude-longitude pairs,\n",
    "# and stop1, stop2, and stop3 as the waypoints. The travel_mode should be \"DRIVING\", \"BICYCLING\", or \"WALKING\".\n",
    "fig = gmaps.figure()\n",
    "travel = gmaps.directions_layer(start, end, waypoints=[stop1, stop2, stop3], travel_mode='DRIVING')\n",
    "fig.add_layer(travel)\n",
    "fig"
   ]
  },
  {
   "cell_type": "code",
   "execution_count": 8,
   "metadata": {},
   "outputs": [
    {
     "output_type": "execute_result",
     "data": {
      "text/plain": [
       "   City_ID                 City Country  Max Temp Current Description  \\\n",
       "0      173            Shelburne      CA     68.00          few clouds   \n",
       "1      321             Waterloo      CA     62.01       broken clouds   \n",
       "2      475  Saint-Andre-Avellin      CA     75.20       broken clouds   \n",
       "3      453             Maniwaki      CA     71.60     overcast clouds   \n",
       "\n",
       "       Lat      Lng               Hotel Name  \n",
       "0  44.0787 -80.2041  The Retreat at the Farm  \n",
       "1  43.4668 -80.5164              Comfort Inn  \n",
       "2  45.7168 -75.0660    Auberge Petite-Nation  \n",
       "3  46.3834 -75.9660     Centre Chateau Logue  "
      ],
      "text/html": "<div>\n<style scoped>\n    .dataframe tbody tr th:only-of-type {\n        vertical-align: middle;\n    }\n\n    .dataframe tbody tr th {\n        vertical-align: top;\n    }\n\n    .dataframe thead th {\n        text-align: right;\n    }\n</style>\n<table border=\"1\" class=\"dataframe\">\n  <thead>\n    <tr style=\"text-align: right;\">\n      <th></th>\n      <th>City_ID</th>\n      <th>City</th>\n      <th>Country</th>\n      <th>Max Temp</th>\n      <th>Current Description</th>\n      <th>Lat</th>\n      <th>Lng</th>\n      <th>Hotel Name</th>\n    </tr>\n  </thead>\n  <tbody>\n    <tr>\n      <th>0</th>\n      <td>173</td>\n      <td>Shelburne</td>\n      <td>CA</td>\n      <td>68.00</td>\n      <td>few clouds</td>\n      <td>44.0787</td>\n      <td>-80.2041</td>\n      <td>The Retreat at the Farm</td>\n    </tr>\n    <tr>\n      <th>1</th>\n      <td>321</td>\n      <td>Waterloo</td>\n      <td>CA</td>\n      <td>62.01</td>\n      <td>broken clouds</td>\n      <td>43.4668</td>\n      <td>-80.5164</td>\n      <td>Comfort Inn</td>\n    </tr>\n    <tr>\n      <th>2</th>\n      <td>475</td>\n      <td>Saint-Andre-Avellin</td>\n      <td>CA</td>\n      <td>75.20</td>\n      <td>broken clouds</td>\n      <td>45.7168</td>\n      <td>-75.0660</td>\n      <td>Auberge Petite-Nation</td>\n    </tr>\n    <tr>\n      <th>3</th>\n      <td>453</td>\n      <td>Maniwaki</td>\n      <td>CA</td>\n      <td>71.60</td>\n      <td>overcast clouds</td>\n      <td>46.3834</td>\n      <td>-75.9660</td>\n      <td>Centre Chateau Logue</td>\n    </tr>\n  </tbody>\n</table>\n</div>"
     },
     "metadata": {},
     "execution_count": 8
    }
   ],
   "source": [
    "# 8. To create a marker layer map between the four cities.\n",
    "#  Combine the four city DataFrames into one DataFrame using the concat() function.\n",
    "itinerary_df = pd.concat([vacation_start, vacation_stop1, vacation_stop2, vacation_stop3],ignore_index=True)\n",
    "itinerary_df"
   ]
  },
  {
   "cell_type": "code",
   "execution_count": 9,
   "metadata": {},
   "outputs": [],
   "source": [
    "# 9 Using the template add city name, the country code, the weather description and maximum temperature for the city. \n",
    "info_box_template = \"\"\"\n",
    "<dl>\n",
    "<dt>Hotel Name</dt><dd>{Hotel Name}</dd>\n",
    "<dt>City</dt><dd>{City}</dd>\n",
    "<dt>Country</dt><dd>{Country}</dd>\n",
    "<dt>Current Description</dt><dd>{Current Description}</dd>\n",
    "<dt>Max Temp</dt><dd>{Max Temp} °F</dd>\n",
    "</dl>\n",
    "\"\"\"\n",
    "\n",
    "# 10a Get the data from each row and add it to the formatting template and store the data in a list.\n",
    "hotel_info = [info_box_template.format(**row) for index, row in itinerary_df.iterrows()]\n",
    "\n",
    "# 10b. Get the latitude and longitude from each row and store in a new DataFrame.\n",
    "locations = itinerary_df[[\"Lat\", \"Lng\"]]"
   ]
  },
  {
   "cell_type": "code",
   "execution_count": 10,
   "metadata": {},
   "outputs": [
    {
     "output_type": "display_data",
     "data": {
      "text/plain": "Figure(layout=FigureLayout(height='420px'))",
      "application/vnd.jupyter.widget-view+json": {
       "version_major": 2,
       "version_minor": 0,
       "model_id": "0ef108c35a7947de9831eba57e76fa84"
      }
     },
     "metadata": {}
    }
   ],
   "source": [
    "# 11a. Add a marker layer for each city to the map.\n",
    "fig = gmaps.figure(center=(45.0, -77.5), zoom_level=6)\n",
    "marker_layer = gmaps.marker_layer(locations, display_info_box=True, info_box_content=hotel_info)\n",
    "fig.add_layer(marker_layer)\n",
    "\n",
    "# 11b. Display the figure\n",
    "fig"
   ]
  },
  {
   "cell_type": "code",
   "execution_count": null,
   "metadata": {},
   "outputs": [],
   "source": []
  }
 ],
 "metadata": {
  "kernelspec": {
   "name": "pythondata",
   "display_name": "Python 3.8.5 64-bit ('PythonData': conda)"
  },
  "language_info": {
   "codemirror_mode": {
    "name": "ipython",
    "version": 3
   },
   "file_extension": ".py",
   "mimetype": "text/x-python",
   "name": "python",
   "nbconvert_exporter": "python",
   "pygments_lexer": "ipython3",
   "version": "3.8.5"
  },
  "latex_envs": {
   "LaTeX_envs_menu_present": true,
   "autoclose": false,
   "autocomplete": true,
   "bibliofile": "biblio.bib",
   "cite_by": "apalike",
   "current_citInitial": 1,
   "eqLabelWithNumbers": true,
   "eqNumInitial": 1,
   "hotkeys": {
    "equation": "Ctrl-E",
    "itemize": "Ctrl-I"
   },
   "labels_anchors": false,
   "latex_user_defs": false,
   "report_style_numbering": false,
   "user_envs_cfg": false
  }
 },
 "nbformat": 4,
 "nbformat_minor": 2
}